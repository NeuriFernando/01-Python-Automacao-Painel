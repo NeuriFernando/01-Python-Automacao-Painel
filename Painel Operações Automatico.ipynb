{
 "cells": [
  {
   "cell_type": "code",
   "execution_count": 61,
   "id": "f6d94751",
   "metadata": {},
   "outputs": [],
   "source": [
    "import pyautogui\n",
    "import time\n",
    "\n",
    "# Passo 1 - abrir o programa SIM NEXT Intalbras\n",
    "pyautogui.press(\"win\")\n",
    "time.sleep(3) \n",
    "pyautogui.write(\"intelbras\")\n",
    "time.sleep(3) \n",
    "pyautogui.press(\"enter\")\n",
    "\n",
    "#delay para aguardar a abertura do sistema\n",
    "time.sleep(25) \n",
    "\n",
    "# Passo 2 - Abrir as câmeras e rodar o RONDA automatica\n",
    "pyautogui.click(x=226, y=461)\n",
    "time.sleep(3) \n",
    "pyautogui.click(x=448, y=1070)\n",
    "pyautogui.click(x=547, y=1178)\n",
    "time.sleep(3)\n",
    "pyautogui.click(button='right', x=662, y=295)\n",
    "time.sleep(3) \n",
    "pyautogui.click(x=881, y=1485)"
   ]
  },
  {
   "cell_type": "code",
   "execution_count": 60,
   "id": "1656f762",
   "metadata": {},
   "outputs": [],
   "source": [
    "from selenium import webdriver\n",
    "from selenium.webdriver.common.keys import Keys\n",
    "import time\n",
    "\n",
    "\n",
    "# Passo 1: Abrir navegador com o link do mdriver\n",
    "navegador = webdriver.Chrome()\n",
    "navegador.maximize_window()\n",
    "navegador.implicitly_wait(30)\n",
    "navegador.set_page_load_timeout(220)\n",
    "navegador.get(\"Colar link\")\n",
    "\n",
    "# Passo 2: Inserir chave e senha para acessar a aplicação\n",
    "navegador.find_element('xpath', '//*[@id=\"chave\"]').send_keys(\"User\")\n",
    "navegador.find_element('xpath', '//*[@id=\"senha\"]').send_keys(\"Senha\")\n",
    "navegador.find_element('xpath', '//*[@id=\"login\"]').send_keys(Keys.ENTER)\n",
    "time.sleep(5)\n",
    "\n",
    "# Passo 3: Abrir o painel dentro do Mdriver\n",
    "navegador.find_elements('xpath','/html/body/nav/div[3]/div/div[3]/ul/li[5]/a')[0].click()\n",
    "navegador.find_elements('xpath','//*[@id=\"05\"]/li[1]/a/span')[0].click()\n",
    "\n",
    "# Irá arrastar a tela do Mdrive para o location informado\n",
    "pyautogui.click(x=232, y=35)\n",
    "pyautogui.dragTo(13086, 2379, duration=5)\n",
    "pyautogui.hotkey(\"win\", \"up\")\n",
    "pyautogui.press(\"F11\")\n",
    "navegador.find_elements('xpath','/html/body/main/div[1]/h1/div[2]/button[2]/i')[0].click()"
   ]
  },
  {
   "cell_type": "code",
   "execution_count": null,
   "id": "d316c374",
   "metadata": {},
   "outputs": [],
   "source": []
  },
  {
   "cell_type": "code",
   "execution_count": null,
   "id": "b7b8da8d",
   "metadata": {},
   "outputs": [],
   "source": []
  },
  {
   "cell_type": "code",
   "execution_count": null,
   "id": "89a15cc6",
   "metadata": {},
   "outputs": [],
   "source": []
  }
 ],
 "metadata": {
  "kernelspec": {
   "display_name": "Python 3 (ipykernel)",
   "language": "python",
   "name": "python3"
  },
  "language_info": {
   "codemirror_mode": {
    "name": "ipython",
    "version": 3
   },
   "file_extension": ".py",
   "mimetype": "text/x-python",
   "name": "python",
   "nbconvert_exporter": "python",
   "pygments_lexer": "ipython3",
   "version": "3.9.12"
  }
 },
 "nbformat": 4,
 "nbformat_minor": 5
}
